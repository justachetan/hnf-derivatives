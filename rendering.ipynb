{
 "cells": [
  {
   "cell_type": "code",
   "execution_count": null,
   "metadata": {},
   "outputs": [],
   "source": [
    "import pyrootutils\n",
    "root = pyrootutils.setup_root(\n",
    "    search_from=\"./\",\n",
    "    indicator=[\".git\", \"pyproject.toml\"],\n",
    "    pythonpath=True,\n",
    "    dotenv=True,\n",
    ")"
   ]
  },
  {
   "cell_type": "code",
   "execution_count": null,
   "metadata": {},
   "outputs": [],
   "source": [
    "import os\n",
    "import json\n",
    "import yaml\n",
    "import importlib\n",
    "import argparse\n",
    "\n",
    "import ipywidgets as widgets\n",
    "import matplotlib.pyplot as plt\n",
    "\n",
    "import mitsuba as mi\n",
    "mi.set_variant(\"cuda_ad_rgb\")\n",
    "\n",
    "from models.tcnn_ingp import TCNNInstantNGP\n",
    "from models.triplane import Net\n",
    "\n",
    "from utils.utils import gradient\n",
    "from utils.polyfit_utils import pfit_grad_est\n",
    "from utils.fd_utils import fd_stencil_cen\n",
    "from utils.rendering import get_ray_trace_img, get_sphere_tracer_img, shader_dict\n",
    "\n",
    "import matplotlib\n",
    "font = {'family': 'sans-serif',\n",
    "        'size': 18}\n",
    "matplotlib.rc('font', **font)\n",
    "\n"
   ]
  },
  {
   "cell_type": "markdown",
   "metadata": {},
   "source": [
    "# Loading the models"
   ]
  },
  {
   "cell_type": "markdown",
   "metadata": {},
   "source": []
  }
 ],
 "metadata": {
  "language_info": {
   "name": "python"
  },
  "orig_nbformat": 4
 },
 "nbformat": 4,
 "nbformat_minor": 2
}
